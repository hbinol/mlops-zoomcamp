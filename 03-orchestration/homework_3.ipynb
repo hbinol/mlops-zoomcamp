{
 "cells": [
  {
   "cell_type": "code",
   "execution_count": null,
   "id": "5ebf7007-541c-4419-89e4-1b2a4088ff96",
   "metadata": {},
   "outputs": [],
   "source": [
    "!pip install pyarrow -U"
   ]
  },
  {
   "cell_type": "code",
   "execution_count": null,
   "id": "d905e1fc-cd25-4ffc-8945-3460f1fae20d",
   "metadata": {},
   "outputs": [],
   "source": [
    "import pandas as pd\n",
    "import numpy as np\n",
    "import sklearn\n",
    "from sklearn.feature_extraction import DictVectorizer\n",
    "from sklearn.linear_model import LinearRegression\n",
    "from sklearn.metrics import root_mean_squared_error"
   ]
  },
  {
   "cell_type": "markdown",
   "id": "90b8fc9f-25c8-484c-8a6e-f4fed0d6b887",
   "metadata": {},
   "source": [
    "### Q3"
   ]
  },
  {
   "cell_type": "code",
   "execution_count": null,
   "id": "f8bea4be-36a4-4d5e-bccd-4d0f773dfc9d",
   "metadata": {},
   "outputs": [],
   "source": [
    "df_1 = pd.read_parquet(\"https://d37ci6vzurychx.cloudfront.net/trip-data/yellow_tripdata_2023-03.parquet\", \n",
    "                       engine=\"pyarrow\")"
   ]
  },
  {
   "cell_type": "code",
   "execution_count": null,
   "id": "cb0c0d59-f1a2-4cbf-be32-9a6b0761e969",
   "metadata": {},
   "outputs": [],
   "source": [
    "print(len(df_1))\n",
    "df_1.info()"
   ]
  },
  {
   "cell_type": "markdown",
   "id": "471c7312-d72f-4cc0-a483-e0b7e53360de",
   "metadata": {},
   "source": [
    "### Q4"
   ]
  },
  {
   "cell_type": "code",
   "execution_count": null,
   "id": "cf212313-4785-480d-a15d-900e5808e455",
   "metadata": {},
   "outputs": [],
   "source": [
    "def read_dataframe(filename):\n",
    "    df = pd.read_parquet(filename)\n",
    "\n",
    "    df['duration'] = df.tpep_dropoff_datetime - df.tpep_pickup_datetime\n",
    "    df.duration = df.duration.dt.total_seconds() / 60\n",
    "\n",
    "    df = df[(df.duration >= 1) & (df.duration <= 60)]\n",
    "\n",
    "    categorical = ['PULocationID', 'DOLocationID']\n",
    "    df[categorical] = df[categorical].astype(str)\n",
    "    \n",
    "    return df"
   ]
  },
  {
   "cell_type": "code",
   "execution_count": null,
   "id": "2779f310-71f1-4cd0-9dec-a8424aa726d6",
   "metadata": {},
   "outputs": [],
   "source": [
    "df = read_dataframe(\"https://d37ci6vzurychx.cloudfront.net/trip-data/yellow_tripdata_2023-03.parquet\")"
   ]
  },
  {
   "cell_type": "code",
   "execution_count": null,
   "id": "fda55219-5a23-4b25-92fe-342e3522f24f",
   "metadata": {},
   "outputs": [],
   "source": [
    "df.info()"
   ]
  },
  {
   "cell_type": "markdown",
   "id": "ed1b2213-45d9-4c54-b8b9-1c24b3a28cb1",
   "metadata": {},
   "source": [
    "### Q5"
   ]
  },
  {
   "cell_type": "code",
   "execution_count": null,
   "id": "adc57c21-2c20-4cce-b009-a4df1d3680b3",
   "metadata": {},
   "outputs": [],
   "source": [
    "df.head()"
   ]
  },
  {
   "cell_type": "code",
   "execution_count": null,
   "id": "4649b9c8-0a7f-48eb-811b-1387f926d3ae",
   "metadata": {},
   "outputs": [],
   "source": [
    "df = df[[\"PULocationID\", \"DOLocationID\", \"duration\"]]\n",
    "df[[\"PULocationID\", \"DOLocationID\"]] = df[[\"PULocationID\", \"DOLocationID\"]].astype(str)\n",
    "train_dicts = df[[\"PULocationID\", \"DOLocationID\"]].to_dict(orient='records')"
   ]
  },
  {
   "cell_type": "code",
   "execution_count": null,
   "id": "e2a685d8-2841-4482-9984-46ac785aaee6",
   "metadata": {},
   "outputs": [],
   "source": [
    "vectorizer = DictVectorizer()\n",
    "vectorizer.fit(train_dicts)"
   ]
  },
  {
   "cell_type": "code",
   "execution_count": null,
   "id": "f25812ba-e718-4aec-9130-5b612ce35efe",
   "metadata": {},
   "outputs": [],
   "source": [
    "feature_mat = vectorizer.transform(train_dicts)\n",
    "feature_mat.shape"
   ]
  },
  {
   "cell_type": "code",
   "execution_count": null,
   "id": "29e32e3d-f108-49d4-bb62-b5ace9f4344b",
   "metadata": {},
   "outputs": [],
   "source": [
    "target = 'duration'\n",
    "y_train = df[target].values\n",
    "\n",
    "lr = LinearRegression()\n",
    "lr.fit(feature_mat, y_train)\n",
    "\n",
    "y_pred = lr.predict(feature_mat)\n",
    "\n",
    "root_mean_squared_error(y_train, y_pred)"
   ]
  },
  {
   "cell_type": "code",
   "execution_count": null,
   "id": "0145eb49-000a-4b7a-ad26-253294c06fd3",
   "metadata": {},
   "outputs": [],
   "source": []
  }
 ],
 "metadata": {
  "kernelspec": {
   "display_name": "Python (base)",
   "language": "python",
   "name": "base"
  },
  "language_info": {
   "codemirror_mode": {
    "name": "ipython",
    "version": 3
   },
   "file_extension": ".py",
   "mimetype": "text/x-python",
   "name": "python",
   "nbconvert_exporter": "python",
   "pygments_lexer": "ipython3",
   "version": "3.12.3"
  }
 },
 "nbformat": 4,
 "nbformat_minor": 5
}
