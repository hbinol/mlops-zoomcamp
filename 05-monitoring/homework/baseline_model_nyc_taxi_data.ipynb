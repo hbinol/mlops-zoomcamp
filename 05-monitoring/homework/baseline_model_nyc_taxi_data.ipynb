{
 "cells": [
  {
   "cell_type": "markdown",
   "id": "edab3cd3-e5a8-4b63-8b8d-c9ef758571b8",
   "metadata": {},
   "source": [
    "# Baseline model for batch monitoring example"
   ]
  },
  {
   "cell_type": "code",
   "execution_count": null,
   "id": "6f62221a",
   "metadata": {},
   "outputs": [],
   "source": [
    "!pip install -r /workspaces/mlops-zoomcamp/05-monitoring/homework/requirements.txt"
   ]
  },
  {
   "cell_type": "code",
   "execution_count": 4,
   "id": "b54264e6eb117908",
   "metadata": {},
   "outputs": [],
   "source": [
    "import requests\n",
    "import datetime\n",
    "import pandas as pd\n",
    "import pickle\n",
    "\n",
    "# from evidently import DataDefinition\n",
    "# from evidently import Dataset\n",
    "# from evidently import Report\n",
    "# from evidently.metrics import ValueDrift, DriftedColumnsCount, MissingValueCount\n",
    "# from evidently.presets import DataSummaryPreset, DataDriftPreset\n",
    "\n",
    "from evidently import ColumnMapping\n",
    "from evidently.report import Report\n",
    "\n",
    "from evidently.metrics import (\n",
    "    ColumnDriftMetric,\n",
    "    DatasetDriftMetric,\n",
    "    DatasetMissingValuesMetric,\n",
    "    ColumnQuantileMetric,\n",
    "    DatasetCorrelationsMetric\n",
    ")\n",
    "\n",
    "from joblib import load, dump\n",
    "from tqdm import tqdm\n",
    "\n",
    "from sklearn.linear_model import LinearRegression\n",
    "from sklearn.metrics import mean_absolute_error, mean_absolute_percentage_error"
   ]
  },
  {
   "cell_type": "code",
   "execution_count": 5,
   "id": "46aeb5ac-bfb7-4fe4-b732-6bf372ba2e95",
   "metadata": {},
   "outputs": [],
   "source": [
    "#! mkdir data"
   ]
  },
  {
   "cell_type": "code",
   "execution_count": null,
   "id": "c935a6bc588248d7",
   "metadata": {},
   "outputs": [],
   "source": [
    "files = [('green_tripdata_2022-01.parquet', './data'), ('green_tripdata_2024-01.parquet', './data'), \n",
    "          ('green_tripdata_2024-02.parquet', './data'), ('green_tripdata_2024-03.parquet', './data')]\n",
    "\n",
    "print(\"Download files:\")\n",
    "for file, path in files:\n",
    "    url=f\"https://d37ci6vzurychx.cloudfront.net/trip-data/{file}\"\n",
    "    resp=requests.get(url, stream=True)\n",
    "    save_path=f\"{path}/{file}\"\n",
    "    with open(save_path, \"wb\") as handle:\n",
    "        for data in tqdm(resp.iter_content(),\n",
    "                        desc=f\"{file}\",\n",
    "                        postfix=f\"save to {save_path}\",\n",
    "                        total=int(resp.headers[\"Content-Length\"])):\n",
    "            handle.write(data)"
   ]
  },
  {
   "cell_type": "code",
   "execution_count": 5,
   "id": "10f4d69997668ea8",
   "metadata": {},
   "outputs": [],
   "source": [
    "march_data = pd.read_parquet('data/green_tripdata_2024-03.parquet')"
   ]
  },
  {
   "cell_type": "code",
   "execution_count": null,
   "id": "755c48c29d032e40",
   "metadata": {},
   "outputs": [],
   "source": [
    "march_data.describe()"
   ]
  },
  {
   "cell_type": "code",
   "execution_count": null,
   "id": "abc417723077a646",
   "metadata": {},
   "outputs": [],
   "source": [
    "# Q1\n",
    "print(f\"There are {len(march_data)} rows in the March 2024 Green Taxi Dataset\")"
   ]
  },
  {
   "cell_type": "markdown",
   "id": "6b03b743",
   "metadata": {},
   "source": [
    "## Model training"
   ]
  },
  {
   "cell_type": "code",
   "execution_count": 8,
   "id": "f09e4195",
   "metadata": {},
   "outputs": [],
   "source": [
    "jan_data = pd.read_parquet('data/green_tripdata_2022-01.parquet')\n",
    "# The `ehail_fee` column is empty. Here we're setting it to float64\n",
    "# for consistency with March 2024 data\n",
    "jan_data['ehail_fee'] = jan_data['ehail_fee'].astype('float64')"
   ]
  },
  {
   "cell_type": "code",
   "execution_count": 9,
   "id": "fe14ae35",
   "metadata": {},
   "outputs": [],
   "source": [
    "def preprocess(data):\n",
    "    # Create target\n",
    "    data[\"duration_min\"] = data.lpep_dropoff_datetime - data.lpep_pickup_datetime\n",
    "    data.duration_min = data.duration_min.apply(lambda td : float(td.total_seconds())/60)\n",
    "    # Filter out outliers\n",
    "    data = data[(data.duration_min >= 0) & (data.duration_min <= 60)]\n",
    "    data = data[(data.passenger_count > 0) & (data.passenger_count <= 8)]\n",
    "    return data\n",
    "\n",
    "jan_data = preprocess(jan_data)\n",
    "march_data = preprocess(march_data)"
   ]
  },
  {
   "cell_type": "code",
   "execution_count": 10,
   "id": "643f0fa6",
   "metadata": {},
   "outputs": [],
   "source": [
    "# Data labeling\n",
    "target = \"duration_min\"\n",
    "num_features = [\"passenger_count\", \"trip_distance\", \"fare_amount\", \"total_amount\"]\n",
    "cat_features = [\"PULocationID\", \"DOLocationID\"]"
   ]
  },
  {
   "cell_type": "code",
   "execution_count": 11,
   "id": "a29e3c76",
   "metadata": {},
   "outputs": [],
   "source": [
    "train_data = jan_data[:30000]\n",
    "val_data = jan_data[30000:]"
   ]
  },
  {
   "cell_type": "code",
   "execution_count": 12,
   "id": "ac5e6284",
   "metadata": {},
   "outputs": [],
   "source": [
    "model = LinearRegression()"
   ]
  },
  {
   "cell_type": "code",
   "execution_count": null,
   "id": "de4e4874",
   "metadata": {},
   "outputs": [],
   "source": [
    "model.fit(train_data[num_features + cat_features], train_data[target])"
   ]
  },
  {
   "cell_type": "code",
   "execution_count": 14,
   "id": "78b20026",
   "metadata": {},
   "outputs": [],
   "source": [
    "train_preds = model.predict(train_data[num_features + cat_features])\n",
    "train_data['prediction'] = train_preds\n",
    "\n",
    "val_preds = model.predict(val_data[num_features + cat_features])\n",
    "val_data['prediction'] = val_preds\n",
    "\n",
    "mar_24_preds = model.predict(march_data[num_features + cat_features])\n",
    "march_data['prediction'] = mar_24_preds"
   ]
  },
  {
   "cell_type": "code",
   "execution_count": null,
   "id": "02afaf0b",
   "metadata": {},
   "outputs": [],
   "source": [
    "print(mean_absolute_error(train_data.duration_min, train_data.prediction))\n",
    "print(mean_absolute_error(val_data.duration_min, val_data.prediction))"
   ]
  },
  {
   "cell_type": "code",
   "execution_count": 17,
   "id": "591e026e",
   "metadata": {},
   "outputs": [],
   "source": [
    "!mkdir models"
   ]
  },
  {
   "cell_type": "code",
   "execution_count": 14,
   "id": "a7ce54a3",
   "metadata": {},
   "outputs": [],
   "source": [
    "with open('models/lin_reg.bin', 'wb') as f_out:\n",
    "    pickle.dump(model, f_out)"
   ]
  },
  {
   "cell_type": "code",
   "execution_count": 15,
   "id": "622d60e2",
   "metadata": {},
   "outputs": [],
   "source": [
    "val_data.to_parquet('data/reference.parquet')"
   ]
  },
  {
   "cell_type": "markdown",
   "id": "a0435a7e",
   "metadata": {},
   "source": [
    "## Evidently Reports"
   ]
  },
  {
   "cell_type": "code",
   "execution_count": 16,
   "id": "40a20834",
   "metadata": {},
   "outputs": [],
   "source": [
    "num_feat = [\"passenger_count\", \"trip_distance\", \"fare_amount\", \"total_amount\"]\n",
    "cat_feat = [\"PULocationID\", \"DOLocationID\"]"
   ]
  },
  {
   "cell_type": "code",
   "execution_count": null,
   "id": "816963a0",
   "metadata": {},
   "outputs": [],
   "source": [
    "column_mapping = ColumnMapping(\n",
    "    target=None,\n",
    "    prediction='prediction',\n",
    "    numerical_features=num_features,\n",
    "    categorical_features=cat_features\n",
    ")\n",
    "\n",
    "report = Report(metrics=[\n",
    "    DatasetDriftMetric()\n",
    "]\n",
    ")\n",
    "\n",
    "report.run(reference_data=train_data, current_data=val_data, column_mapping=column_mapping)\n",
    "\n",
    "report.show(mode='inline')"
   ]
  },
  {
   "cell_type": "code",
   "execution_count": null,
   "id": "a6e71076",
   "metadata": {},
   "outputs": [],
   "source": [
    "from pprint import pprint\n",
    "\n",
    "pprint(report.as_dict())"
   ]
  },
  {
   "cell_type": "markdown",
   "id": "3d1e0c1f",
   "metadata": {},
   "source": [
    "Since val_data is just part of the training dataset, it makes sense that there is no dataset drift. However, let's modify the fare_amount value to simulate a case in which the taxi fares got a sudden increase in price due to an external influence, such as a tax increase. This will help us observe how Evidently detects and reports the drift.\n",
    "\n",
    "Here's how we can modify the fare_amount column to simulate this scenario:\n",
    "\n",
    "* Create a copy of the val_data dataset.\n",
    "* Apply an increase to the fare_amount values in this copy.\n",
    "This simulation will allow us to observe how Evidently's DatasetDriftMetric reacts to a sudden change in the dataset."
   ]
  },
  {
   "cell_type": "code",
   "execution_count": null,
   "id": "ceb02b45",
   "metadata": {},
   "outputs": [],
   "source": [
    "drift_data = val_data.copy()\n",
    "drift_data['fare_amount'] = drift_data['fare_amount'] + 5\n",
    "\n",
    "\n",
    "report = Report(metrics=[\n",
    "    DatasetDriftMetric()\n",
    "]\n",
    ")\n",
    "report.run(reference_data=train_data, current_data=drift_data, column_mapping=column_mapping)\n",
    "pprint(report.as_dict())"
   ]
  },
  {
   "cell_type": "markdown",
   "id": "e89a10da",
   "metadata": {},
   "source": [
    "Now let's run the report using the March 2024 dataset as our current data. Since we're comparing data that are two years apart (2022 vs 2024), we expect Evidently to detect multiple instances of column drift. This comparison will help us identify significant changes in the dataset over time."
   ]
  },
  {
   "cell_type": "code",
   "execution_count": null,
   "id": "a19b57df",
   "metadata": {},
   "outputs": [],
   "source": [
    "report = Report(metrics=[\n",
    "    DatasetDriftMetric()\n",
    "]\n",
    ")\n",
    "report.run(reference_data=train_data, current_data=march_data, column_mapping=column_mapping)\n",
    "pprint(report.as_dict())"
   ]
  },
  {
   "cell_type": "markdown",
   "id": "f71e0188",
   "metadata": {},
   "source": [
    "### Q2: DatasetCorrelationsMetric\n",
    "This is part of Question 2: add one metric of your choice (...)\n",
    "\n",
    "This metric is pretty straightforward. It will calculate the correlations between all columns in the dataset. It uses:\n",
    "\n",
    "Pearson\n",
    "Spearman\n",
    "Kendall\n",
    "Cramer's V"
   ]
  },
  {
   "cell_type": "code",
   "execution_count": null,
   "id": "515f5d63",
   "metadata": {},
   "outputs": [],
   "source": [
    "report = Report(metrics=[\n",
    "    DatasetCorrelationsMetric()\n",
    "]\n",
    ")\n",
    "\n",
    "report.run(reference_data=train_data, current_data=march_data, column_mapping=column_mapping)\n",
    "report.show(mode='inline')"
   ]
  },
  {
   "cell_type": "code",
   "execution_count": null,
   "id": "51d4a861",
   "metadata": {},
   "outputs": [],
   "source": [
    "report = Report(metrics=[\n",
    "    ColumnQuantileMetric(column_name='fare_amount', quantile=0.5)\n",
    "]\n",
    ")\n",
    "report.run(reference_data=train_data, current_data=march_data, column_mapping=column_mapping)\n",
    "report.show(mode='inline')"
   ]
  },
  {
   "cell_type": "code",
   "execution_count": null,
   "id": "7191e722",
   "metadata": {},
   "outputs": [],
   "source": [
    "# To be able to visualize the distribution of duration_min, we need to include it in the \n",
    "# column_mapping used in the report.\n",
    "column_mapping = ColumnMapping(\n",
    "    target='duration_min',\n",
    "    prediction='prediction',\n",
    "    numerical_features=num_features,\n",
    "    categorical_features=cat_features\n",
    ")\n",
    "\n",
    "report = Report(metrics=[\n",
    "    ColumnQuantileMetric(column_name='duration_min', quantile=0.5)\n",
    "]\n",
    ")\n",
    "report.run(reference_data=train_data, current_data=march_data, column_mapping=column_mapping)\n",
    "report.show(mode='inline')"
   ]
  },
  {
   "cell_type": "code",
   "execution_count": 29,
   "id": "30791e01",
   "metadata": {},
   "outputs": [],
   "source": [
    "column_mapping = ColumnMapping(\n",
    "    target=None,\n",
    "    prediction='prediction',\n",
    "    numerical_features=num_features,\n",
    "    categorical_features=cat_features\n",
    ")\n",
    "\n",
    "report = Report(metrics=[\n",
    "    ColumnDriftMetric(column_name='prediction'),\n",
    "    DatasetCorrelationsMetric(),\n",
    "    DatasetDriftMetric(),\n",
    "    DatasetMissingValuesMetric(),\n",
    "    ColumnQuantileMetric(column_name='fare_amount', quantile=0.5)\n",
    "]\n",
    ")\n",
    "report.run(reference_data=train_data, current_data=march_data, column_mapping=column_mapping)"
   ]
  },
  {
   "cell_type": "code",
   "execution_count": null,
   "id": "7c4450d8",
   "metadata": {},
   "outputs": [],
   "source": [
    "report.show(mode='inline')"
   ]
  },
  {
   "cell_type": "code",
   "execution_count": null,
   "id": "177437a0",
   "metadata": {},
   "outputs": [],
   "source": [
    "report_dict = report.as_dict()\n",
    "print(f\"Example: 50th Percentile for the current fare_amount column = {report_dict['metrics'][4]['result']['current']['value']}\")"
   ]
  },
  {
   "cell_type": "markdown",
   "id": "a7bad5d7",
   "metadata": {},
   "source": [
    "## Visualization with Grafana"
   ]
  },
  {
   "cell_type": "code",
   "execution_count": null,
   "id": "29c49065",
   "metadata": {},
   "outputs": [],
   "source": [
    "!cat ./grafana_db_config/init.sql"
   ]
  },
  {
   "cell_type": "code",
   "execution_count": null,
   "id": "fa9b0db1",
   "metadata": {},
   "outputs": [],
   "source": []
  },
  {
   "cell_type": "markdown",
   "id": "c857c5683c59b65",
   "metadata": {},
   "source": [
    "# Evidently Report"
   ]
  },
  {
   "cell_type": "code",
   "execution_count": null,
   "id": "1e10db1a0250c1ab",
   "metadata": {},
   "outputs": [],
   "source": [
    "data_definition = DataDefinition(numerical_columns=num_features + ['prediction'], categorical_columns=cat_features)\n",
    "train_dataset = Dataset.from_pandas(\n",
    "    train_data,\n",
    "    data_definition\n",
    ")\n",
    "\n",
    "val_dataset = Dataset.from_pandas(\n",
    "    val_data,\n",
    "    data_definition\n",
    ")"
   ]
  },
  {
   "cell_type": "code",
   "execution_count": null,
   "id": "543ca2a7e4f00a45",
   "metadata": {},
   "outputs": [],
   "source": [
    "report = Report(metrics=[\n",
    "    ValueDrift(column='prediction'),\n",
    "    DriftedColumnsCount(),\n",
    "    MissingValueCount(column='prediction'),\n",
    "]\n",
    ")"
   ]
  },
  {
   "cell_type": "code",
   "execution_count": null,
   "id": "676afb69b6172332",
   "metadata": {},
   "outputs": [],
   "source": [
    "snapshot = report.run(reference_data=train_dataset, current_data=val_dataset)"
   ]
  },
  {
   "cell_type": "code",
   "execution_count": null,
   "id": "69ad038a3a95098a",
   "metadata": {},
   "outputs": [],
   "source": [
    "snapshot"
   ]
  },
  {
   "cell_type": "code",
   "execution_count": null,
   "id": "a9e2aa5ca9b496d4",
   "metadata": {},
   "outputs": [],
   "source": [
    "result = snapshot.dict()"
   ]
  },
  {
   "cell_type": "code",
   "execution_count": null,
   "id": "6e5035dd2c278a9a",
   "metadata": {},
   "outputs": [],
   "source": [
    "result"
   ]
  },
  {
   "cell_type": "code",
   "execution_count": null,
   "id": "7da8c7d2911c5f1e",
   "metadata": {},
   "outputs": [],
   "source": []
  }
 ],
 "metadata": {
  "kernelspec": {
   "display_name": "Python (base)",
   "language": "python",
   "name": "base"
  },
  "language_info": {
   "codemirror_mode": {
    "name": "ipython",
    "version": 3
   },
   "file_extension": ".py",
   "mimetype": "text/x-python",
   "name": "python",
   "nbconvert_exporter": "python",
   "pygments_lexer": "ipython3",
   "version": "3.12.3"
  }
 },
 "nbformat": 4,
 "nbformat_minor": 5
}
